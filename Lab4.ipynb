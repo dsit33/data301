{
  "nbformat": 4,
  "nbformat_minor": 0,
  "metadata": {
    "colab": {
      "name": "Lab4.ipynb",
      "provenance": [],
      "collapsed_sections": []
    },
    "kernelspec": {
      "name": "python3",
      "display_name": "Python 3"
    }
  },
  "cells": [
    {
      "cell_type": "markdown",
      "metadata": {
        "id": "U6Gcb1R119dz",
        "colab_type": "text"
      },
      "source": [
        "### Lab 4 - Sabal Jayaswal\n"
      ]
    },
    {
      "cell_type": "code",
      "metadata": {
        "id": "9D5zHQk62Fz2",
        "colab_type": "code",
        "colab": {}
      },
      "source": [
        "import requests\n",
        "from lxml import html\n",
        "import pandas as pd\n",
        "import numpy as np"
      ],
      "execution_count": 0,
      "outputs": []
    },
    {
      "cell_type": "code",
      "metadata": {
        "id": "m_HUsZKn54k3",
        "colab_type": "code",
        "outputId": "f4d7213d-0838-40e0-81f3-4c64b73b8e26",
        "colab": {
          "base_uri": "https://localhost:8080/",
          "height": 450
        }
      },
      "source": [
        "# Read in GDP and clean data\n",
        "pageContent=requests.get('https://en.wikipedia.org/wiki/List_of_countries_by_GDP_%28nominal%29')\n",
        "tree = html.fromstring(pageContent.content)\n",
        "\n",
        "country=tree.xpath('//table[2]/tbody/tr[2]/td[3]//a[1]/text()')\n",
        "for i in range(len(country) -1,0,-1):\n",
        "  if '[' in country[i]:\n",
        "    del country[i]\n",
        "gdp=tree.xpath('//table[2]/tbody/tr[2]/td[3]//span/text()')[1::2] \n",
        "\n",
        "df = pd.DataFrame({'Country':country, 'GDP':gdp})\n",
        "df = df.iloc[1:]\n",
        "df = df.set_index('Country')\n",
        "df"
      ],
      "execution_count": 0,
      "outputs": [
        {
          "output_type": "execute_result",
          "data": {
            "text/html": [
              "<div>\n",
              "<style scoped>\n",
              "    .dataframe tbody tr th:only-of-type {\n",
              "        vertical-align: middle;\n",
              "    }\n",
              "\n",
              "    .dataframe tbody tr th {\n",
              "        vertical-align: top;\n",
              "    }\n",
              "\n",
              "    .dataframe thead th {\n",
              "        text-align: right;\n",
              "    }\n",
              "</style>\n",
              "<table border=\"1\" class=\"dataframe\">\n",
              "  <thead>\n",
              "    <tr style=\"text-align: right;\">\n",
              "      <th></th>\n",
              "      <th>GDP</th>\n",
              "    </tr>\n",
              "    <tr>\n",
              "      <th>Country</th>\n",
              "      <th></th>\n",
              "    </tr>\n",
              "  </thead>\n",
              "  <tbody>\n",
              "    <tr>\n",
              "      <th>United States</th>\n",
              "      <td>19,485,394</td>\n",
              "    </tr>\n",
              "    <tr>\n",
              "      <th>China</th>\n",
              "      <td>12,234,781</td>\n",
              "    </tr>\n",
              "    <tr>\n",
              "      <th>Japan</th>\n",
              "      <td>4,872,415</td>\n",
              "    </tr>\n",
              "    <tr>\n",
              "      <th>Germany</th>\n",
              "      <td>3,693,204</td>\n",
              "    </tr>\n",
              "    <tr>\n",
              "      <th>United Kingdom</th>\n",
              "      <td>2,631,228</td>\n",
              "    </tr>\n",
              "    <tr>\n",
              "      <th>...</th>\n",
              "      <td>...</td>\n",
              "    </tr>\n",
              "    <tr>\n",
              "      <th>Marshall Islands</th>\n",
              "      <td>209</td>\n",
              "    </tr>\n",
              "    <tr>\n",
              "      <th>Nauru</th>\n",
              "      <td>182</td>\n",
              "    </tr>\n",
              "    <tr>\n",
              "      <th>Kiribati</th>\n",
              "      <td>180</td>\n",
              "    </tr>\n",
              "    <tr>\n",
              "      <th>Montserrat</th>\n",
              "      <td>63</td>\n",
              "    </tr>\n",
              "    <tr>\n",
              "      <th>Tuvalu</th>\n",
              "      <td>38</td>\n",
              "    </tr>\n",
              "  </tbody>\n",
              "</table>\n",
              "<p>212 rows × 1 columns</p>\n",
              "</div>"
            ],
            "text/plain": [
              "                         GDP\n",
              "Country                     \n",
              "United States     19,485,394\n",
              "China             12,234,781\n",
              "Japan              4,872,415\n",
              "Germany            3,693,204\n",
              "United Kingdom     2,631,228\n",
              "...                      ...\n",
              "Marshall Islands         209\n",
              "Nauru                    182\n",
              "Kiribati                 180\n",
              "Montserrat                63\n",
              "Tuvalu                    38\n",
              "\n",
              "[212 rows x 1 columns]"
            ]
          },
          "metadata": {
            "tags": []
          },
          "execution_count": 2
        }
      ]
    },
    {
      "cell_type": "code",
      "metadata": {
        "id": "c5_34bTYqK-c",
        "colab_type": "code",
        "outputId": "3f05be42-f403-444c-89d1-a0a5ed78a8b4",
        "colab": {
          "base_uri": "https://localhost:8080/",
          "height": 450
        }
      },
      "source": [
        "# Read in population and clean data\n",
        "pageContent2 = requests.get('https://en.wikipedia.org/wiki/List_of_countries_and_dependencies_by_population')\n",
        "tree2 = html.fromstring(pageContent2.content)\n",
        "\n",
        "index      = tree2.xpath('//table/tbody/tr/td[1]/text()')\n",
        "country2   = tree2.xpath('//table/tbody/tr/td[2]//a[1]/text()')\n",
        "population = tree2.xpath('//table/tbody/tr/td[3]/text()')\n",
        "\n",
        "for i in range(len(country2) -1,0,-1):\n",
        "  if '[' in country2[i] or len(country2[i]) <= 2:\n",
        "    del country2[i]\n",
        "del country2[233]\n",
        "del country2[219]\n",
        "\n",
        "df2 = pd.DataFrame({'Index':index,'Country':country2, 'Population':population})\n",
        "\n",
        "df2 = df2[df2.Index != '–']\n",
        "df2 = df2.drop('Index', 1)\n",
        "df2 = df2.set_index('Country')\n",
        "df2"
      ],
      "execution_count": 0,
      "outputs": [
        {
          "output_type": "execute_result",
          "data": {
            "text/html": [
              "<div>\n",
              "<style scoped>\n",
              "    .dataframe tbody tr th:only-of-type {\n",
              "        vertical-align: middle;\n",
              "    }\n",
              "\n",
              "    .dataframe tbody tr th {\n",
              "        vertical-align: top;\n",
              "    }\n",
              "\n",
              "    .dataframe thead th {\n",
              "        text-align: right;\n",
              "    }\n",
              "</style>\n",
              "<table border=\"1\" class=\"dataframe\">\n",
              "  <thead>\n",
              "    <tr style=\"text-align: right;\">\n",
              "      <th></th>\n",
              "      <th>Population</th>\n",
              "    </tr>\n",
              "    <tr>\n",
              "      <th>Country</th>\n",
              "      <th></th>\n",
              "    </tr>\n",
              "  </thead>\n",
              "  <tbody>\n",
              "    <tr>\n",
              "      <th>China</th>\n",
              "      <td>1,402,741,640</td>\n",
              "    </tr>\n",
              "    <tr>\n",
              "      <th>India</th>\n",
              "      <td>1,362,509,699</td>\n",
              "    </tr>\n",
              "    <tr>\n",
              "      <th>United States</th>\n",
              "      <td>329,725,558</td>\n",
              "    </tr>\n",
              "    <tr>\n",
              "      <th>Indonesia</th>\n",
              "      <td>266,911,900</td>\n",
              "    </tr>\n",
              "    <tr>\n",
              "      <th>Pakistan</th>\n",
              "      <td>220,892,331</td>\n",
              "    </tr>\n",
              "    <tr>\n",
              "      <th>...</th>\n",
              "      <td>...</td>\n",
              "    </tr>\n",
              "    <tr>\n",
              "      <th>San Marino</th>\n",
              "      <td>33,553</td>\n",
              "    </tr>\n",
              "    <tr>\n",
              "      <th>Palau</th>\n",
              "      <td>17,900</td>\n",
              "    </tr>\n",
              "    <tr>\n",
              "      <th>Nauru</th>\n",
              "      <td>11,000</td>\n",
              "    </tr>\n",
              "    <tr>\n",
              "      <th>Tuvalu</th>\n",
              "      <td>10,200</td>\n",
              "    </tr>\n",
              "    <tr>\n",
              "      <th>Vatican City</th>\n",
              "      <td>825</td>\n",
              "    </tr>\n",
              "  </tbody>\n",
              "</table>\n",
              "<p>196 rows × 1 columns</p>\n",
              "</div>"
            ],
            "text/plain": [
              "                  Population\n",
              "Country                     \n",
              "China          1,402,741,640\n",
              "India          1,362,509,699\n",
              "United States    329,725,558\n",
              "Indonesia        266,911,900\n",
              "Pakistan         220,892,331\n",
              "...                      ...\n",
              "San Marino            33,553\n",
              "Palau                 17,900\n",
              "Nauru                 11,000\n",
              "Tuvalu                10,200\n",
              "Vatican City             825\n",
              "\n",
              "[196 rows x 1 columns]"
            ]
          },
          "metadata": {
            "tags": []
          },
          "execution_count": 3
        }
      ]
    },
    {
      "cell_type": "code",
      "metadata": {
        "id": "DtaNg-Z22h-P",
        "colab_type": "code",
        "outputId": "a9059e38-014b-4d77-fd3e-073b73fb7ae0",
        "colab": {
          "base_uri": "https://localhost:8080/",
          "height": 34
        }
      },
      "source": [
        "df3 = df.join(df2, how = \"inner\")\n",
        "\n",
        "df3['GDP'] = df3['GDP'].str.replace(',', '').astype(int)\n",
        "df3['Population'] = df3['Population'].str.replace(',', '').astype(int)\n",
        "\n",
        "correlation = df3['GDP'].corr(df3['Population'])\n",
        "correlation"
      ],
      "execution_count": 0,
      "outputs": [
        {
          "output_type": "execute_result",
          "data": {
            "text/plain": [
              "0.5622900799610706"
            ]
          },
          "metadata": {
            "tags": []
          },
          "execution_count": 4
        }
      ]
    }
  ]
}