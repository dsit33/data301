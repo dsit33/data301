{
  "nbformat": 4,
  "nbformat_minor": 0,
  "metadata": {
    "colab": {
      "name": "Lab8.ipynb",
      "provenance": [],
      "collapsed_sections": []
    },
    "kernelspec": {
      "name": "python3",
      "display_name": "Python 3"
    }
  },
  "cells": [
    {
      "cell_type": "markdown",
      "metadata": {
        "id": "U6Gcb1R119dz",
        "colab_type": "text"
      },
      "source": [
        "### Lab 8 - Sabal Jayaswal\n"
      ]
    },
    {
      "cell_type": "code",
      "metadata": {
        "id": "9D5zHQk62Fz2",
        "colab_type": "code",
        "outputId": "a8702abf-f23c-4b79-fc2a-9fdf609c6490",
        "colab": {
          "base_uri": "https://localhost:8080/",
          "height": 34
        }
      },
      "source": [
        "import pandas as pd\n",
        "import numpy as np\n",
        "from sklearn.datasets import load_iris\n",
        "from tensorflow.python.keras import models\n",
        "from tensorflow.python.keras import layers\n",
        "from sklearn.model_selection import train_test_split\n",
        "from keras.optimizers import Adam\n",
        "import matplotlib.pyplot as plt\n",
        "from sklearn.metrics import confusion_matrix"
      ],
      "execution_count": 0,
      "outputs": [
        {
          "output_type": "stream",
          "text": [
            "Using TensorFlow backend.\n"
          ],
          "name": "stderr"
        }
      ]
    },
    {
      "cell_type": "code",
      "metadata": {
        "id": "m_HUsZKn54k3",
        "colab_type": "code",
        "outputId": "09b73893-402d-433b-926f-313136ad7c13",
        "colab": {
          "base_uri": "https://localhost:8080/",
          "height": 136
        }
      },
      "source": [
        "iris_data = load_iris() \n",
        "\n",
        "x = iris_data.data\n",
        "y_unvectorized = iris_data.target\n",
        "\n",
        "def vectorize(data, dimensions = 3):\n",
        "    results = np.zeros((len(data),dimensions))\n",
        "    for i, s in enumerate(data) :\n",
        "        results[i,s]=1\n",
        "    return results\n",
        "\n",
        "y = vectorize(y_unvectorized)\n",
        "y_unvectorized"
      ],
      "execution_count": 0,
      "outputs": [
        {
          "output_type": "execute_result",
          "data": {
            "text/plain": [
              "array([0, 0, 0, 0, 0, 0, 0, 0, 0, 0, 0, 0, 0, 0, 0, 0, 0, 0, 0, 0, 0, 0,\n",
              "       0, 0, 0, 0, 0, 0, 0, 0, 0, 0, 0, 0, 0, 0, 0, 0, 0, 0, 0, 0, 0, 0,\n",
              "       0, 0, 0, 0, 0, 0, 1, 1, 1, 1, 1, 1, 1, 1, 1, 1, 1, 1, 1, 1, 1, 1,\n",
              "       1, 1, 1, 1, 1, 1, 1, 1, 1, 1, 1, 1, 1, 1, 1, 1, 1, 1, 1, 1, 1, 1,\n",
              "       1, 1, 1, 1, 1, 1, 1, 1, 1, 1, 1, 1, 2, 2, 2, 2, 2, 2, 2, 2, 2, 2,\n",
              "       2, 2, 2, 2, 2, 2, 2, 2, 2, 2, 2, 2, 2, 2, 2, 2, 2, 2, 2, 2, 2, 2,\n",
              "       2, 2, 2, 2, 2, 2, 2, 2, 2, 2, 2, 2, 2, 2, 2, 2, 2, 2])"
            ]
          },
          "metadata": {
            "tags": []
          },
          "execution_count": 22
        }
      ]
    },
    {
      "cell_type": "code",
      "metadata": {
        "id": "QVJZVr3-3JoV",
        "colab_type": "code",
        "colab": {}
      },
      "source": [
        "train_x, test_x, train_y, test_y = train_test_split(x, y, test_size=0.20)"
      ],
      "execution_count": 0,
      "outputs": []
    },
    {
      "cell_type": "code",
      "metadata": {
        "id": "FDlqZOwt0fjR",
        "colab_type": "code",
        "outputId": "391a34a0-6d33-4a53-d327-2ce6ed7f0d20",
        "colab": {
          "base_uri": "https://localhost:8080/",
          "height": 714
        }
      },
      "source": [
        "model = models.Sequential()\n",
        "\n",
        "model.add(layers.Dense(10, input_shape=(4,), activation='relu'))\n",
        "model.add(layers.Dense(10, activation='relu'))\n",
        "model.add(layers.Dense(10, activation='relu'))\n",
        "model.add(layers.Dense(3, activation='softmax', name='output'))\n",
        "\n",
        "model.compile(optimizer = 'adam', loss='categorical_crossentropy', metrics=['accuracy'])\n",
        "model.fit(train_x, train_y, batch_size=5, epochs=20)"
      ],
      "execution_count": 0,
      "outputs": [
        {
          "output_type": "stream",
          "text": [
            "Epoch 1/20\n",
            "24/24 [==============================] - 0s 1ms/step - loss: 1.0992 - accuracy: 0.3417\n",
            "Epoch 2/20\n",
            "24/24 [==============================] - 0s 1ms/step - loss: 1.0492 - accuracy: 0.3583\n",
            "Epoch 3/20\n",
            "24/24 [==============================] - 0s 1ms/step - loss: 1.0190 - accuracy: 0.6500\n",
            "Epoch 4/20\n",
            "24/24 [==============================] - 0s 1ms/step - loss: 0.9859 - accuracy: 0.6833\n",
            "Epoch 5/20\n",
            "24/24 [==============================] - 0s 1ms/step - loss: 0.9489 - accuracy: 0.6833\n",
            "Epoch 6/20\n",
            "24/24 [==============================] - 0s 1ms/step - loss: 0.9080 - accuracy: 0.6833\n",
            "Epoch 7/20\n",
            "24/24 [==============================] - 0s 1ms/step - loss: 0.8586 - accuracy: 0.6833\n",
            "Epoch 8/20\n",
            "24/24 [==============================] - 0s 1ms/step - loss: 0.8059 - accuracy: 0.6833\n",
            "Epoch 9/20\n",
            "24/24 [==============================] - 0s 1ms/step - loss: 0.7521 - accuracy: 0.6833\n",
            "Epoch 10/20\n",
            "24/24 [==============================] - 0s 1ms/step - loss: 0.6965 - accuracy: 0.6917\n",
            "Epoch 11/20\n",
            "24/24 [==============================] - 0s 1ms/step - loss: 0.6457 - accuracy: 0.6833\n",
            "Epoch 12/20\n",
            "24/24 [==============================] - 0s 1ms/step - loss: 0.6022 - accuracy: 0.8500\n",
            "Epoch 13/20\n",
            "24/24 [==============================] - 0s 1ms/step - loss: 0.5611 - accuracy: 0.8583\n",
            "Epoch 14/20\n",
            "24/24 [==============================] - 0s 1ms/step - loss: 0.5275 - accuracy: 0.7500\n",
            "Epoch 15/20\n",
            "24/24 [==============================] - 0s 1ms/step - loss: 0.5000 - accuracy: 0.7750\n",
            "Epoch 16/20\n",
            "24/24 [==============================] - 0s 1ms/step - loss: 0.4791 - accuracy: 0.9250\n",
            "Epoch 17/20\n",
            "24/24 [==============================] - 0s 1ms/step - loss: 0.4530 - accuracy: 0.8750\n",
            "Epoch 18/20\n",
            "24/24 [==============================] - 0s 1ms/step - loss: 0.4377 - accuracy: 0.9083\n",
            "Epoch 19/20\n",
            "24/24 [==============================] - 0s 1ms/step - loss: 0.4177 - accuracy: 0.9000\n",
            "Epoch 20/20\n",
            "24/24 [==============================] - 0s 1ms/step - loss: 0.3986 - accuracy: 0.9500\n"
          ],
          "name": "stdout"
        },
        {
          "output_type": "execute_result",
          "data": {
            "text/plain": [
              "<tensorflow.python.keras.callbacks.History at 0x7fcfd68166d8>"
            ]
          },
          "metadata": {
            "tags": []
          },
          "execution_count": 24
        }
      ]
    },
    {
      "cell_type": "code",
      "metadata": {
        "id": "jnsXbJlO8QEA",
        "colab_type": "code",
        "outputId": "b2e4daeb-ffc4-4f57-b1f1-17e98272eca5",
        "colab": {
          "base_uri": "https://localhost:8080/",
          "height": 51
        }
      },
      "source": [
        "results = model.evaluate(test_x, test_y)\n",
        "results"
      ],
      "execution_count": 0,
      "outputs": [
        {
          "output_type": "stream",
          "text": [
            "1/1 [==============================] - 0s 1ms/step - loss: 0.4356 - accuracy: 0.9333\n"
          ],
          "name": "stdout"
        },
        {
          "output_type": "execute_result",
          "data": {
            "text/plain": [
              "[0.43559837341308594, 0.9333333373069763]"
            ]
          },
          "metadata": {
            "tags": []
          },
          "execution_count": 25
        }
      ]
    },
    {
      "cell_type": "code",
      "metadata": {
        "id": "pZDTrfoCOiFo",
        "colab_type": "code",
        "outputId": "c8a0f523-cb32-4fc4-cb4c-dc3817f1a88c",
        "colab": {
          "base_uri": "https://localhost:8080/",
          "height": 136
        }
      },
      "source": [
        "#KNN\n",
        "from sklearn.cluster import KMeans\n",
        "kmeans = KMeans(n_clusters=3)\n",
        "kmeans.fit(x)\n",
        "y_kmeans = kmeans.predict(x)\n",
        "y_pred = y_kmeans\n",
        "y_pred"
      ],
      "execution_count": 0,
      "outputs": [
        {
          "output_type": "execute_result",
          "data": {
            "text/plain": [
              "array([0, 0, 0, 0, 0, 0, 0, 0, 0, 0, 0, 0, 0, 0, 0, 0, 0, 0, 0, 0, 0, 0,\n",
              "       0, 0, 0, 0, 0, 0, 0, 0, 0, 0, 0, 0, 0, 0, 0, 0, 0, 0, 0, 0, 0, 0,\n",
              "       0, 0, 0, 0, 0, 0, 1, 1, 2, 1, 1, 1, 1, 1, 1, 1, 1, 1, 1, 1, 1, 1,\n",
              "       1, 1, 1, 1, 1, 1, 1, 1, 1, 1, 1, 2, 1, 1, 1, 1, 1, 1, 1, 1, 1, 1,\n",
              "       1, 1, 1, 1, 1, 1, 1, 1, 1, 1, 1, 1, 2, 1, 2, 2, 2, 2, 1, 2, 2, 2,\n",
              "       2, 2, 2, 1, 1, 2, 2, 2, 2, 1, 2, 1, 2, 1, 2, 2, 1, 1, 2, 2, 2, 2,\n",
              "       2, 1, 2, 2, 2, 2, 1, 2, 2, 2, 1, 2, 2, 2, 1, 2, 2, 1], dtype=int32)"
            ]
          },
          "metadata": {
            "tags": []
          },
          "execution_count": 10
        }
      ]
    },
    {
      "cell_type": "code",
      "metadata": {
        "id": "h-unAuo-Q8Mj",
        "colab_type": "code",
        "outputId": "fa860f80-ffe6-45ee-9ccf-886aa301d0a8",
        "colab": {
          "base_uri": "https://localhost:8080/",
          "height": 136
        }
      },
      "source": [
        "#Expected values\n",
        "y_actual = y_unvectorized\n",
        "y_actual"
      ],
      "execution_count": 0,
      "outputs": [
        {
          "output_type": "execute_result",
          "data": {
            "text/plain": [
              "array([0, 0, 0, 0, 0, 0, 0, 0, 0, 0, 0, 0, 0, 0, 0, 0, 0, 0, 0, 0, 0, 0,\n",
              "       0, 0, 0, 0, 0, 0, 0, 0, 0, 0, 0, 0, 0, 0, 0, 0, 0, 0, 0, 0, 0, 0,\n",
              "       0, 0, 0, 0, 0, 0, 1, 1, 1, 1, 1, 1, 1, 1, 1, 1, 1, 1, 1, 1, 1, 1,\n",
              "       1, 1, 1, 1, 1, 1, 1, 1, 1, 1, 1, 1, 1, 1, 1, 1, 1, 1, 1, 1, 1, 1,\n",
              "       1, 1, 1, 1, 1, 1, 1, 1, 1, 1, 1, 1, 2, 2, 2, 2, 2, 2, 2, 2, 2, 2,\n",
              "       2, 2, 2, 2, 2, 2, 2, 2, 2, 2, 2, 2, 2, 2, 2, 2, 2, 2, 2, 2, 2, 2,\n",
              "       2, 2, 2, 2, 2, 2, 2, 2, 2, 2, 2, 2, 2, 2, 2, 2, 2, 2])"
            ]
          },
          "metadata": {
            "tags": []
          },
          "execution_count": 9
        }
      ]
    },
    {
      "cell_type": "code",
      "metadata": {
        "id": "23DxFKn35UAQ",
        "colab_type": "code",
        "outputId": "8cb43c86-4890-450d-b390-7c94892f2d0d",
        "colab": {
          "base_uri": "https://localhost:8080/",
          "height": 204
        }
      },
      "source": [
        "# def count(y_actual, y_pred):\n",
        "#     TP = 0\n",
        "#     FP = 0\n",
        "#     FN = 0\n",
        "#     l = len(y_pred)\n",
        "\n",
        "#     for i in range(l):\n",
        "#       for j in range(l): \n",
        "#         if [y_pred[i],y_pred[j]] == [y_actual[i],y_actual[j]]:\n",
        "#            TP += 1\n",
        "#     return TP\n",
        "\n",
        "cnf_matrix = confusion_matrix(y_actual, y_pred)\n",
        "\n",
        "TP = cnf_matrix[0][0] + cnf_matrix[1][1] + cnf_matrix[2][2] \n",
        "FP = cnf_matrix[1][0] + cnf_matrix[2][0] + cnf_matrix[2][1]\n",
        "FN = cnf_matrix[0][1] + cnf_matrix[0][2] + cnf_matrix[1][2]\n",
        "\n",
        "print(\"Confusion Matrix: \\n\", cnf_matrix, \"\\n\")\n",
        "\n",
        "print(\"TP:\", TP)\n",
        "print(\"FP:\", FP)\n",
        "print(\"FN:\", FN)\n",
        "\n",
        "precision = TP/(TP+FP)\n",
        "recall = TP/(TP+FN)\n",
        "f1_score = 2*precision*recall/(precision+recall)\n",
        "\n",
        "print(\"Precision is:\",precision)\n",
        "print(\"Recall is:   \",recall)\n",
        "print(\"F1 Score is: \",f1_score)"
      ],
      "execution_count": 0,
      "outputs": [
        {
          "output_type": "stream",
          "text": [
            "Confusion Matrix: \n",
            " [[50  0  0]\n",
            " [ 0 48  2]\n",
            " [ 0 14 36]] \n",
            "\n",
            "TP: 134\n",
            "FP: 14\n",
            "FN: 2\n",
            "Precision is: 0.9054054054054054\n",
            "Recall is:    0.9852941176470589\n",
            "F1 Score is:  0.943661971830986\n"
          ],
          "name": "stdout"
        }
      ]
    }
  ]
}